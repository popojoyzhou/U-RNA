{
 "cells": [
  {
   "cell_type": "code",
   "execution_count": 4,
   "metadata": {},
   "outputs": [],
   "source": [
    "import pickle\n",
    "import collections\n",
    "\n"
   ]
  },
  {
   "cell_type": "code",
   "execution_count": 5,
   "metadata": {},
   "outputs": [],
   "source": [
    "RNA_SS_data = collections.namedtuple('RNA_SS_data','seq ss_label length name pairs')\n",
    "\n",
    "with open('/data2/Ash/Code2/ArchiveII.pickle', 'rb') as handle:\n",
    "    b = pickle.load(handle)"
   ]
  },
  {
   "cell_type": "code",
   "execution_count": 7,
   "metadata": {},
   "outputs": [
    {
     "data": {
      "text/plain": [
       "393"
      ]
     },
     "execution_count": 7,
     "metadata": {},
     "output_type": "execute_result"
    }
   ],
   "source": [
    "len(b)"
   ]
  },
  {
   "cell_type": "code",
   "execution_count": 8,
   "metadata": {},
   "outputs": [
    {
     "data": {
      "text/plain": [
       "RNA_SS_data(seq=array([[0, 0, 1, 0],\n",
       "       [0, 0, 1, 0],\n",
       "       [0, 0, 0, 1],\n",
       "       ...,\n",
       "       [0, 0, 0, 0],\n",
       "       [0, 0, 0, 0],\n",
       "       [0, 0, 0, 0]]), ss_label=array([[0, 1, 0],\n",
       "       [0, 1, 0],\n",
       "       [0, 1, 0],\n",
       "       ...,\n",
       "       [0, 0, 0],\n",
       "       [0, 0, 0],\n",
       "       [0, 0, 0]]), length=308, name='srp_Zea.mays._X14661.ct', pairs=[[0, 37], [1, 36], [2, 21], [3, 20], [4, 19], [5, 18], [6, 17], [7, 16], [8, 15], [15, 8], [16, 7], [17, 6], [18, 5], [19, 4], [20, 3], [21, 2], [26, 35], [27, 34], [28, 33], [29, 32], [32, 29], [33, 28], [34, 27], [35, 26], [36, 1], [37, 0], [42, 307], [43, 306], [44, 304], [45, 303], [46, 302], [47, 301], [48, 300], [49, 299], [50, 298], [55, 294], [57, 292], [58, 291], [59, 290], [61, 288], [63, 286], [64, 285], [66, 284], [67, 283], [69, 282], [70, 281], [71, 280], [75, 277], [76, 276], [77, 275], [78, 274], [80, 267], [81, 266], [82, 265], [83, 264], [84, 263], [85, 262], [86, 261], [89, 259], [91, 258], [92, 257], [93, 256], [95, 255], [102, 252], [103, 251], [104, 250], [105, 249], [106, 248], [107, 247], [108, 246], [110, 241], [111, 240], [113, 239], [114, 238], [115, 237], [116, 236], [117, 235], [119, 232], [120, 231], [121, 230], [122, 229], [123, 228], [125, 226], [126, 225], [127, 224], [130, 166], [131, 165], [132, 164], [133, 163], [135, 162], [136, 161], [137, 160], [138, 159], [139, 158], [140, 157], [141, 156], [144, 153], [145, 152], [146, 151], [151, 146], [152, 145], [153, 144], [156, 141], [157, 140], [158, 139], [159, 138], [160, 137], [161, 136], [162, 135], [163, 133], [164, 132], [165, 131], [166, 130], [168, 174], [174, 168], [176, 222], [177, 221], [178, 220], [179, 218], [180, 217], [185, 214], [187, 212], [188, 211], [189, 210], [194, 205], [195, 204], [196, 203], [203, 196], [204, 195], [205, 194], [210, 189], [211, 188], [212, 187], [214, 185], [217, 180], [218, 179], [220, 178], [221, 177], [222, 176], [224, 127], [225, 126], [226, 125], [228, 123], [229, 122], [230, 121], [231, 120], [232, 119], [235, 117], [236, 116], [237, 115], [238, 114], [239, 113], [240, 111], [241, 110], [246, 108], [247, 107], [248, 106], [249, 105], [250, 104], [251, 103], [252, 102], [255, 95], [256, 93], [257, 92], [258, 91], [259, 89], [261, 86], [262, 85], [263, 84], [264, 83], [265, 82], [266, 81], [267, 80], [274, 78], [275, 77], [276, 76], [277, 75], [280, 71], [281, 70], [282, 69], [283, 67], [284, 66], [285, 64], [286, 63], [288, 61], [290, 59], [291, 58], [292, 57], [294, 55], [298, 50], [299, 49], [300, 48], [301, 47], [302, 46], [303, 45], [304, 44], [306, 43], [307, 42]])"
      ]
     },
     "execution_count": 8,
     "metadata": {},
     "output_type": "execute_result"
    }
   ],
   "source": [
    "b[0]"
   ]
  },
  {
   "cell_type": "code",
   "execution_count": 1,
   "metadata": {},
   "outputs": [
    {
     "data": {
      "text/plain": [
       "120"
      ]
     },
     "execution_count": 1,
     "metadata": {},
     "output_type": "execute_result"
    }
   ],
   "source": [
    "len('UUUUUUUAUAUUUUUUUUUUUUUUUUUUUUUUUUUUUUUUUUUUUUUUUUUUUUUUUUUUUUUUUUUUUUUUUUUUUUUUUUUUUUUUUUUUUUUUUUUUUUCUUUUUUUUUUUCCUUUU')"
   ]
  },
  {
   "cell_type": "code",
   "execution_count": 2,
   "metadata": {},
   "outputs": [
    {
     "data": {
      "text/plain": [
       "120"
      ]
     },
     "execution_count": 2,
     "metadata": {},
     "output_type": "execute_result"
    }
   ],
   "source": [
    "len(\"UUUUUUUAUAUUUUUUUUUUUUUUUUUUUUUUUUUUUUUUUUUUUUUUUUUUUUUUUUUUUUUUUUUUUUUUUUUUUUUUUUUUUUUUUUUUUUUUUUUUUUCUUUUUUUUUUUCCUUUU\")"
   ]
  },
  {
   "cell_type": "code",
   "execution_count": 4,
   "metadata": {},
   "outputs": [],
   "source": [
    "import pickle\n",
    "with open('/data2/Ash/Code2/RNA/encoded_data_varied.pkl', 'rb') as handle:\n",
    "    xxo = pickle.load(handle)\n",
    "encoded_bp=xxo['encoded_bp']\n",
    "encoded_seq=xxo['encoded_seq']\n",
    "encoded_dotb=xxo['encoded_dotb']\n",
    "encoded_sub1=xxo['encoded_sub1']\n",
    "encoded_sub2=xxo['encoded_sub2']\n",
    "train_loader = DataLoader(trainData, batch_size=1, shuffle=True, num_workers=4)"
   ]
  },
  {
   "cell_type": "code",
   "execution_count": 6,
   "metadata": {},
   "outputs": [
    {
     "data": {
      "text/plain": [
       "(249, 249)"
      ]
     },
     "execution_count": 6,
     "metadata": {},
     "output_type": "execute_result"
    }
   ],
   "source": [
    "encoded_bp[0].shape"
   ]
  },
  {
   "cell_type": "code",
   "execution_count": 7,
   "metadata": {},
   "outputs": [
    {
     "data": {
      "text/plain": [
       "(249, 4)"
      ]
     },
     "execution_count": 7,
     "metadata": {},
     "output_type": "execute_result"
    }
   ],
   "source": [
    "encoded_seq[0].shape"
   ]
  },
  {
   "cell_type": "code",
   "execution_count": null,
   "metadata": {},
   "outputs": [],
   "source": []
  }
 ],
 "metadata": {
  "kernelspec": {
   "display_name": "UFold",
   "language": "python",
   "name": "python3"
  },
  "language_info": {
   "codemirror_mode": {
    "name": "ipython",
    "version": 3
   },
   "file_extension": ".py",
   "mimetype": "text/x-python",
   "name": "python",
   "nbconvert_exporter": "python",
   "pygments_lexer": "ipython3",
   "version": "3.11.5"
  },
  "orig_nbformat": 4
 },
 "nbformat": 4,
 "nbformat_minor": 2
}
